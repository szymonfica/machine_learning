{
  "nbformat": 4,
  "nbformat_minor": 0,
  "metadata": {
    "colab": {
      "provenance": []
    },
    "kernelspec": {
      "name": "python3",
      "display_name": "Python 3"
    },
    "language_info": {
      "name": "python"
    }
  },
  "cells": [
    {
      "cell_type": "markdown",
      "source": [
        "Problem 2: Finding the Optimal k Using Leave-One-Out Cross Validation\n",
        "\n",
        "In this task, you will use the K-Nearest Neighbors (KNN) classifier to classify handwritten digits from the\n",
        "MNIST dataset. The goal is to determine:\n",
        "1. The optimal number of neighbors (k) for the KNN classifier.\n",
        "2. Evaluate the classifier's performance using leave-one-out cross-validation (LOO CV).\n",
        "\n",
        "Steps to Follow:\n",
        "1. Preprocess the MNIST dataset:\n",
        "  - Normalize the pixel values (e.g., divide by 255 to scale between\n",
        "0 and 1) and select a random 10% subset of the dataset.\n",
        "2. KNN Classifier:\n",
        "  - Use the KNeighborsClassifier from sklearn.neighbors. Iterate over different\n",
        "values of k, specifically k = 1, 2, . . . , 10.\n",
        "3. Leave-One-Out Cross-Validation:\n",
        "\n",
        "  - For each value of k, perform LOO CV:\n",
        "    - Train the KNN model on n - 1 data points, where n is the total number of samples.\n",
        "    - Test the model on the single data point left out.\n",
        "    - Repeat this for all data points and compute the overall accuracy.\n",
        "4. Determine the Optimal k:\n",
        "\n",
        "  - Calculate the accuracy for each value of k.\n",
        "\n",
        "  - Determine the value of k with the highest accuracy.\n",
        "5. Plot:\n",
        "  - Plot the accuracy for each value of k based on the LOO CV results"
      ],
      "metadata": {
        "id": "GlhjpRxv4oFF"
      }
    },
    {
      "cell_type": "code",
      "execution_count": null,
      "metadata": {
        "id": "S29xobevOiFA"
      },
      "outputs": [],
      "source": [
        "import numpy as np\n",
        "import keras\n",
        "import sklearn"
      ]
    },
    {
      "cell_type": "code",
      "source": [
        "(x_train, y_train), (x_test, y_test) = keras.datasets.mnist.load_data()\n",
        "\n",
        "np.random.seed(107)\n",
        "\n",
        "train_size, test_size = 600, 100\n",
        "\n",
        "train_indices = np.random.choice(len(x_train), size=train_size, replace=False)\n",
        "test_indices = np.random.choice(len(x_test), size=test_size, replace=False)\n",
        "\n",
        "x_train = x_train[train_indices].reshape((train_size, 28*28)).astype(\"float32\") / 255.\n",
        "y_train = y_train[train_indices]\n",
        "\n",
        "x_test = x_test[test_indices].reshape((test_size, 28*28)).astype(\"float32\") / 255.\n",
        "y_test = y_test[test_indices]"
      ],
      "metadata": {
        "colab": {
          "base_uri": "https://localhost:8080/"
        },
        "id": "EohDE3pWRVoQ",
        "outputId": "7945ac52-e23d-417b-e75f-3b835c72da07"
      },
      "execution_count": null,
      "outputs": [
        {
          "output_type": "stream",
          "name": "stdout",
          "text": [
            "Downloading data from https://storage.googleapis.com/tensorflow/tf-keras-datasets/mnist.npz\n",
            "\u001b[1m11490434/11490434\u001b[0m \u001b[32m━━━━━━━━━━━━━━━━━━━━\u001b[0m\u001b[37m\u001b[0m \u001b[1m0s\u001b[0m 0us/step\n"
          ]
        }
      ]
    },
    {
      "cell_type": "code",
      "source": [
        "from sklearn.neighbors import KNeighborsClassifier\n",
        "from sklearn.model_selection import LeaveOneOut\n",
        "from sklearn.metrics import accuracy_score\n",
        "\n",
        "def loocv_knn(X, Y, K):\n",
        "    results = []\n",
        "\n",
        "    for k in K:\n",
        "        scores = []\n",
        "\n",
        "        for i in range(len(X)):\n",
        "            x_train = np.delete(X, i, axis=0)\n",
        "            y_train = np.delete(Y, i, axis=0)\n",
        "            x_test = [X[i]]\n",
        "            y_test = [Y[i]]\n",
        "\n",
        "            model = KNeighborsClassifier(n_neighbors=k)\n",
        "            model.fit(x_train, y_train)\n",
        "\n",
        "            y_pred = model.predict(x_test)\n",
        "            scores.append(accuracy_score(y_test, y_pred))\n",
        "\n",
        "        print(\"k = %d, accuracy = %.2f\" % (k, np.mean(scores)))\n",
        "        results.append(np.mean(scores))\n",
        "\n",
        "    return results"
      ],
      "metadata": {
        "id": "kV5zHe60SmuT"
      },
      "execution_count": null,
      "outputs": []
    },
    {
      "cell_type": "code",
      "source": [
        "parameters = np.arange(1, 11)\n",
        "accuracies = loocv_knn(x_train, y_train, parameters)\n",
        "best_k = parameters[np.argmax(accuracies)]\n",
        "print(\"Best k: %d\" % best_k)"
      ],
      "metadata": {
        "colab": {
          "base_uri": "https://localhost:8080/"
        },
        "id": "pyf8NVnvSwCK",
        "outputId": "2a178750-6469-4b06-b0f4-11b2887f38b9"
      },
      "execution_count": null,
      "outputs": [
        {
          "output_type": "stream",
          "name": "stdout",
          "text": [
            "k = 1, accuracy = 0.84\n",
            "k = 2, accuracy = 0.83\n",
            "k = 3, accuracy = 0.84\n",
            "k = 4, accuracy = 0.84\n",
            "k = 5, accuracy = 0.85\n",
            "k = 6, accuracy = 0.83\n",
            "k = 7, accuracy = 0.82\n",
            "k = 8, accuracy = 0.82\n",
            "k = 9, accuracy = 0.82\n",
            "k = 10, accuracy = 0.81\n",
            "Best k: 5\n"
          ]
        }
      ]
    },
    {
      "cell_type": "code",
      "source": [
        "import matplotlib.pyplot as plt\n",
        "plt.plot(parameters, accuracies)\n",
        "plt.title(\"LOOCV KNN\")\n",
        "plt.xlabel('k')\n",
        "plt.ylabel('mean accuracy')"
      ],
      "metadata": {
        "colab": {
          "base_uri": "https://localhost:8080/",
          "height": 490
        },
        "id": "UNEDnB4cSw1s",
        "outputId": "e283f798-82bf-42af-e26b-80bf7f5f7d96"
      },
      "execution_count": null,
      "outputs": [
        {
          "output_type": "execute_result",
          "data": {
            "text/plain": [
              "Text(0, 0.5, 'mean accuracy')"
            ]
          },
          "metadata": {},
          "execution_count": 29
        },
        {
          "output_type": "display_data",
          "data": {
            "text/plain": [
              "<Figure size 640x480 with 1 Axes>"
            ],
            "image/png": "[encoded data removed]"
          },
          "metadata": {}
        }
      ]
    }
  ]
}